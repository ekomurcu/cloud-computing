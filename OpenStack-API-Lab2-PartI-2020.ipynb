{
 "cells": [
  {
   "cell_type": "markdown",
   "metadata": {},
   "source": [
    "# Computer Lab 2, Part I"
   ]
  },
  {
   "cell_type": "markdown",
   "metadata": {},
   "source": [
    "This notebook consists of instructions, exercises and questions that form the practical part of Lab II, Part I. In this assignment, you will learn the basics of the OpenStack Python APIs that can be used to interact directly with the IaaS services Keystone (Identity), Glance (Image) and Nova (compute). Please prepare your solution and answers to questions directly in this notebook, and export it to PDF. Upload that PDF as to the student portal to complete Part I of the Lab.  "
   ]
  },
  {
   "cell_type": "markdown",
   "metadata": {},
   "source": [
    "## Task - 1"
   ]
  },
  {
   "cell_type": "code",
   "execution_count": 1,
   "metadata": {},
   "outputs": [],
   "source": [
    "from os import environ as env\n",
    "import keystoneclient.v3.client as ksclient"
   ]
  },
  {
   "cell_type": "code",
   "execution_count": 2,
   "metadata": {},
   "outputs": [
    {
     "data": {
      "text/plain": [
       "'/home/ubuntu/cloudinit'"
      ]
     },
     "execution_count": 2,
     "metadata": {},
     "output_type": "execute_result"
    }
   ],
   "source": [
    "import  os\n",
    "os.getcwd()"
   ]
  },
  {
   "cell_type": "code",
   "execution_count": 3,
   "metadata": {},
   "outputs": [
    {
     "data": {
      "text/plain": [
       "'/home/ubuntu'"
      ]
     },
     "execution_count": 3,
     "metadata": {},
     "output_type": "execute_result"
    }
   ],
   "source": [
    "os.chdir(\"../\")\n",
    "os.getcwd()"
   ]
  },
  {
   "cell_type": "code",
   "execution_count": 5,
   "metadata": {},
   "outputs": [
    {
     "data": {
      "text/plain": [
       "['.ipython',\n",
       " '.sudo_as_admin_successful',\n",
       " '.cache',\n",
       " '.python_history',\n",
       " '.novaclient',\n",
       " 'UPPMAX_2020_1-2-openrc.sh',\n",
       " '.local',\n",
       " 'technical-training',\n",
       " '.jupyter',\n",
       " '.ipynb_checkpoints',\n",
       " '.gnupg',\n",
       " '.viminfo',\n",
       " '.bash_logout',\n",
       " '.ssh',\n",
       " '.bash_history',\n",
       " '.gitconfig',\n",
       " '.profile',\n",
       " 'cloudinit',\n",
       " '.bashrc']"
      ]
     },
     "execution_count": 5,
     "metadata": {},
     "output_type": "execute_result"
    }
   ],
   "source": [
    "os.listdir()"
   ]
  },
  {
   "cell_type": "markdown",
   "metadata": {},
   "source": [
    "To establish a client connection, we will need to pass a dictionary with information about the tenant, user, credentials and the API Identity endpoint. Here, I have sourced the \"openrc.sh file\" obtained from the Horizon dashboard in the underlying shell prior to starting the notebook. Hence, in order to actually run the code below, you would need to do the same with your own credentials. "
   ]
  },
  {
   "cell_type": "code",
   "execution_count": 6,
   "metadata": {},
   "outputs": [],
   "source": [
    "keystone = ksclient.Client(auth_url=env['OS_AUTH_URL'],\n",
    "                           username=env['OS_USERNAME'],\n",
    "                           password=env['OS_PASSWORD'],\n",
    "                           project_name=env['OS_PROJECT_NAME'],\n",
    "                           project_domain_name=env['OS_USER_DOMAIN_NAME'],\n",
    "                           project_id=env['OS_PROJECT_ID'],\n",
    "                           version=env['OS_IDENTITY_API_VERSION'],\n",
    "                           user_domain_name=env['OS_USER_DOMAIN_NAME'],\n",
    "                           region_name=env['OS_REGION_NAME'])"
   ]
  },
  {
   "cell_type": "markdown",
   "metadata": {},
   "source": [
    "# Next command will collect all the available endpoints in keystone."
   ]
  },
  {
   "cell_type": "code",
   "execution_count": 7,
   "metadata": {},
   "outputs": [],
   "source": [
    "endpoints = keystone.service_catalog.get_endpoints()"
   ]
  },
  {
   "cell_type": "markdown",
   "metadata": {
    "collapsed": true
   },
   "source": [
    "# Next section will print the services with associated infromation."
   ]
  },
  {
   "cell_type": "code",
   "execution_count": 10,
   "metadata": {},
   "outputs": [
    {
     "name": "stdout",
     "output_type": "stream",
     "text": [
      "service:  compute , region:  east-1 , public endpoint:  https://east-1.cloud.snic.se:8774/v2.1\n",
      "service:  compute , region:  east-1 , internal endpoint:  http://172.29.236.9:8774/v2.1\n",
      "service:  identity , region:  east-1 , internal endpoint:  http://172.29.236.9:5000\n",
      "service:  identity , region:  east-1 , public endpoint:  https://east-1.cloud.snic.se:5000\n",
      "service:  cloudformation , region:  east-1 , internal endpoint:  http://172.29.236.9:8000/v1\n",
      "service:  cloudformation , region:  east-1 , public endpoint:  https://east-1.cloud.snic.se:8000/v1\n",
      "service:  orchestration , region:  east-1 , internal endpoint:  http://172.29.236.9:8004/v1/fc1aade83c2e49baa7498b3918560d9f\n",
      "service:  orchestration , region:  east-1 , public endpoint:  https://east-1.cloud.snic.se:8004/v1/fc1aade83c2e49baa7498b3918560d9f\n",
      "service:  network , region:  east-1 , internal endpoint:  http://172.29.236.9:9696\n",
      "service:  network , region:  east-1 , public endpoint:  https://east-1.cloud.snic.se:9696\n",
      "service:  volumev3 , region:  east-1 , internal endpoint:  http://172.29.236.9:8776/v3/fc1aade83c2e49baa7498b3918560d9f\n",
      "service:  volumev3 , region:  east-1 , public endpoint:  https://east-1.cloud.snic.se:8776/v3/fc1aade83c2e49baa7498b3918560d9f\n",
      "service:  image , region:  east-1 , internal endpoint:  http://172.29.236.9:9292\n",
      "service:  image , region:  east-1 , public endpoint:  https://east-1.cloud.snic.se:9292\n",
      "service:  metric , region:  east-1 , public endpoint:  https://130.238.28.5:8041\n",
      "service:  metric , region:  east-1 , internal endpoint:  http://172.29.236.9:8041\n",
      "service:  placement , region:  east-1 , internal endpoint:  http://172.29.236.9:8780\n",
      "service:  placement , region:  east-1 , public endpoint:  https://east-1.cloud.snic.se:8780\n",
      "service:  volumev2 , region:  east-1 , public endpoint:  https://east-1.cloud.snic.se:8776/v2/fc1aade83c2e49baa7498b3918560d9f\n",
      "service:  volumev2 , region:  east-1 , internal endpoint:  http://172.29.236.9:8776/v2/fc1aade83c2e49baa7498b3918560d9f\n"
     ]
    }
   ],
   "source": [
    "for endpoint in endpoints:\n",
    "    for edp in endpoints[endpoint]:\n",
    "        if edp['interface'] == 'public':\n",
    "            print ('service: ', endpoint, ', region: ', edp['region'], ', public endpoint: ', edp['url'])\n",
    "        elif edp['interface'] == 'internal':\n",
    "            print ('service: ', endpoint, ', region: ', edp['region'], ', internal endpoint: ', edp['url'])\n",
    "        "
   ]
  },
  {
   "cell_type": "markdown",
   "metadata": {},
   "source": [
    "## Questions:"
   ]
  },
  {
   "cell_type": "markdown",
   "metadata": {},
   "source": [
    "### 1 - Explain the working of the code?\n"
   ]
  },
  {
   "cell_type": "markdown",
   "metadata": {},
   "source": [
    "The code firstly gathers the information about the person having VM after the openrc.sh file is sourced in order to load the client info as environment variables. Then, the endpoints object is created via the endpoint function of keystone object which refers to the identity management service created at the previous step. Lastly, all the internal and public endpoints are traversed using endpoints list which has the API endpoint information about services like Openstack compute, identity, cloudformation, orchestration, network, volume, image, metric, placement. "
   ]
  },
  {
   "cell_type": "markdown",
   "metadata": {},
   "source": [
    "### 2 - Why we need openrc file to run this code?\n"
   ]
  },
  {
   "cell_type": "markdown",
   "metadata": {},
   "source": [
    "Openrc file is needed to be sourced because the environment variables are required to have information about the client such as url, username, password, etc. Otherwise the client object will be returned null and it is no longer possible to retrieve the API endpoints."
   ]
  },
  {
   "cell_type": "markdown",
   "metadata": {},
   "source": [
    "### 3 - The code shows information about the \"public\" endpoints. Modify the code to show both the \"public\" and \"internal\" endpoints?\n"
   ]
  },
  {
   "cell_type": "raw",
   "metadata": {},
   "source": [
    "Now, the above for loop code shows information about both public and internal endpoints."
   ]
  },
  {
   "cell_type": "markdown",
   "metadata": {},
   "source": [
    "### 4 - What is the difference between \"internal\" and \"public\" endpoints?"
   ]
  },
  {
   "cell_type": "raw",
   "metadata": {},
   "source": []
  },
  {
   "cell_type": "markdown",
   "metadata": {
    "collapsed": true
   },
   "source": [
    "## Task - 2"
   ]
  },
  {
   "cell_type": "markdown",
   "metadata": {
    "collapsed": true
   },
   "source": [
    "In this task you need to write a small python program using Keystone and Nova APIs to list all the available VMs in the project. \n",
    "\n",
    "Use the following links and the code available in Task-1. \n",
    "\n",
    "https://docs.openstack.org/python-novaclient/pike/ https://docs.openstack.org/python-novaclient/pike/reference/api/index.html\n",
    "\n",
    "Following are the functions required to accomplish the task: \n",
    "\n",
    "Load the required plugin:<br />\n",
    "loader = loading.get_plugin_loader(...)\n",
    "\n",
    "Create the auth object:<br />\n",
    "auth = loader.load_from_options(....) \n",
    "\n",
    "Create session object using \"auth\":<br />\n",
    "sess = session.Session( .... )\n",
    "\n",
    "Create Nova Client Object:<br />\n",
    "nova = client.Client( ... )\n",
    "\n",
    "Print the Vms:<br />\n",
    "nova.servers.list():"
   ]
  },
  {
   "cell_type": "code",
   "execution_count": 14,
   "metadata": {},
   "outputs": [],
   "source": [
    "import time, os, sys\n",
    "import inspect\n",
    "from os import environ as env\n",
    "\n",
    "from  novaclient import client\n",
    "import keystoneclient.v3.client as ksclient\n",
    "from keystoneauth1 import loading\n",
    "from keystoneauth1 import session"
   ]
  },
  {
   "cell_type": "code",
   "execution_count": 15,
   "metadata": {},
   "outputs": [],
   "source": [
    "#Load the required plugin:\n",
    "loader = loading.get_plugin_loader('password')"
   ]
  },
  {
   "cell_type": "code",
   "execution_count": 16,
   "metadata": {},
   "outputs": [
    {
     "data": {
      "text/plain": [
       "<keystoneauth1.loading._plugins.identity.generic.Password at 0x7fc669818908>"
      ]
     },
     "execution_count": 16,
     "metadata": {},
     "output_type": "execute_result"
    }
   ],
   "source": [
    "loader"
   ]
  },
  {
   "cell_type": "code",
   "execution_count": 17,
   "metadata": {},
   "outputs": [],
   "source": [
    "#Create the auth object:\n",
    "auth = loader.load_from_options(auth_url=env['OS_AUTH_URL'],\n",
    "                                username=env['OS_USERNAME'],\n",
    "                                password=env['OS_PASSWORD'],\n",
    "                                project_name=env['OS_PROJECT_NAME'],\n",
    "                                project_domain_name=env['OS_USER_DOMAIN_NAME'],\n",
    "                                project_id=env['OS_PROJECT_ID'],\n",
    "                                user_domain_name=env['OS_USER_DOMAIN_NAME'])"
   ]
  },
  {
   "cell_type": "code",
   "execution_count": 22,
   "metadata": {},
   "outputs": [
    {
     "name": "stdout",
     "output_type": "stream",
     "text": [
      "Help on method load_from_options in module keystoneauth1.loading.base:\n",
      "\n",
      "load_from_options(**kwargs) method of keystoneauth1.loading._plugins.identity.generic.Password instance\n",
      "    Create a plugin from the arguments retrieved from get_options.\n",
      "    \n",
      "    A client can override this function to do argument validation or to\n",
      "    handle differences between the registered options and what is required\n",
      "    to create the plugin.\n",
      "\n"
     ]
    }
   ],
   "source": [
    "help(loader.load_from_options)"
   ]
  },
  {
   "cell_type": "code",
   "execution_count": 18,
   "metadata": {},
   "outputs": [
    {
     "data": {
      "text/plain": [
       "<keystoneauth1.identity.generic.password.Password at 0x7fc669775908>"
      ]
     },
     "execution_count": 18,
     "metadata": {},
     "output_type": "execute_result"
    }
   ],
   "source": [
    "auth"
   ]
  },
  {
   "cell_type": "code",
   "execution_count": 23,
   "metadata": {},
   "outputs": [],
   "source": [
    "#Create session object using \"auth\":\n",
    "sess = session.Session( auth=auth )"
   ]
  },
  {
   "cell_type": "code",
   "execution_count": 25,
   "metadata": {},
   "outputs": [
    {
     "data": {
      "text/plain": [
       "<keystoneauth1.session.Session at 0x7fc6697752e8>"
      ]
     },
     "execution_count": 25,
     "metadata": {},
     "output_type": "execute_result"
    }
   ],
   "source": [
    "sess"
   ]
  },
  {
   "cell_type": "code",
   "execution_count": 24,
   "metadata": {},
   "outputs": [],
   "source": [
    "#Create Nova Client Object:\n",
    "nova = client.Client('2.1', session=sess)"
   ]
  },
  {
   "cell_type": "code",
   "execution_count": 26,
   "metadata": {},
   "outputs": [
    {
     "data": {
      "text/plain": [
       "<novaclient.v2.client.Client at 0x7fc669775b00>"
      ]
     },
     "execution_count": 26,
     "metadata": {},
     "output_type": "execute_result"
    }
   ],
   "source": [
    "nova"
   ]
  },
  {
   "cell_type": "code",
   "execution_count": 28,
   "metadata": {},
   "outputs": [
    {
     "data": {
      "text/plain": [
       "[<Server: girish2>,\n",
       " <Server: s2>,\n",
       " <Server: girish1>,\n",
       " <Server: akshai_stack-my_instance1-k7l2kbzt3nl3>,\n",
       " <Server: akshai_stack-my_instance0-umlmh26purfz>,\n",
       " <Server: julie-vm2>,\n",
       " <Server: Ego_Csaasv2>,\n",
       " <Server: s1>,\n",
       " <Server: Sotiris_notebook>,\n",
       " <Server: wezh_lab2_scripted_instance>,\n",
       " <Server: vm1>,\n",
       " <Server: yudulab2>,\n",
       " <Server: akshai_cmd_C1>,\n",
       " <Server: Julie-Lab-2>,\n",
       " <Server: alex-lab2-test>,\n",
       " <Server: Henkeinst-WSL>,\n",
       " <Server: akshai_1>,\n",
       " <Server: a_hameed>,\n",
       " <Server: maha_script>,\n",
       " <Server: c-2>,\n",
       " <Server: shqi>,\n",
       " <Server: RaheelInit>,\n",
       " <Server: test_lab3>,\n",
       " <Server: Aneysha-LAb2>,\n",
       " <Server: emgo2250_L2>,\n",
       " <Server: dapi_vm1>,\n",
       " <Server: test_cont_Ellinor_C2>,\n",
       " <Server: marcus_test>,\n",
       " <Server: c2_kevaja>,\n",
       " <Server: instance-kev>,\n",
       " <Server: Ego_C2>,\n",
       " <Server: Raheel_Docker>,\n",
       " <Server: marcus_stack_try2-my_instance1-d33sqsjju2ze>,\n",
       " <Server: marcus_stack_try2-my_instance0-52k527d6u34v>,\n",
       " <Server: com_w1>,\n",
       " <Server: com_m>,\n",
       " <Server: alex-lab2>,\n",
       " <Server: shreyas>,\n",
       " <Server: G5_W1>,\n",
       " <Server: G5_M>,\n",
       " <Server: Sotiris_C2>,\n",
       " <Server: Ellinor_c2_2>,\n",
       " <Server: sai_lab2>,\n",
       " <Server: Vera_C2>,\n",
       " <Server: dapi1>,\n",
       " <Server: JS>,\n",
       " <Server: Marcus_L_C2>,\n",
       " <Server: meritony>,\n",
       " <Server: wezh_lab2>,\n",
       " <Server: Stina_2>,\n",
       " <Server: Ellinor_c2>,\n",
       " <Server: dani_lab2_inst3>,\n",
       " <Server: max_soneback_docker>,\n",
       " <Server: vmTabeaDocker>,\n",
       " <Server: maha_c2>,\n",
       " <Server: li-ju>,\n",
       " <Server: saria_azam2>]"
      ]
     },
     "execution_count": 28,
     "metadata": {},
     "output_type": "execute_result"
    }
   ],
   "source": [
    "#Print the Vms:\n",
    "nova.servers.list()"
   ]
  },
  {
   "cell_type": "markdown",
   "metadata": {},
   "source": [
    "## Task - 3:"
   ]
  },
  {
   "cell_type": "markdown",
   "metadata": {},
   "source": [
    "Try to measure the speed with which you can put and get files to and from volumes. Conduct your experiment several times to gather statistic and plot a) A estimated distribution of the time taken (in wall clock) to write and read a file of size 10MB in your volume and b) vary the size of the file from 10kB to 100MB and plot the read and write throughput (in MB/s) times as a function of file size (for the smaller data sizes, you might need to repeat the experiment many times and obtain a statistical average). Use \"Root\" disk as a reference point. Include the resulting graphs and a description of your experiment in the report."
   ]
  },
  {
   "cell_type": "code",
   "execution_count": null,
   "metadata": {
    "collapsed": true
   },
   "outputs": [],
   "source": [
    "# Implement you solution here. Hint, the following command\n",
    "%pylab inline \n",
    "# will  make matplotlib/pylab available and plots will be displayed directly in the notebook, for example\n",
    "plt.plot([0,1,2,3],[0,1,2,3])"
   ]
  },
  {
   "cell_type": "markdown",
   "metadata": {},
   "source": [
    "Don't foget to terminate resources after your experiments. "
   ]
  },
  {
   "cell_type": "code",
   "execution_count": null,
   "metadata": {
    "collapsed": true
   },
   "outputs": [],
   "source": [
    "# Clean up volumes"
   ]
  }
 ],
 "metadata": {
  "kernelspec": {
   "display_name": "Python 3",
   "language": "python",
   "name": "python3"
  },
  "language_info": {
   "codemirror_mode": {
    "name": "ipython",
    "version": 3
   },
   "file_extension": ".py",
   "mimetype": "text/x-python",
   "name": "python",
   "nbconvert_exporter": "python",
   "pygments_lexer": "ipython3",
   "version": "3.6.9"
  }
 },
 "nbformat": 4,
 "nbformat_minor": 1
}
